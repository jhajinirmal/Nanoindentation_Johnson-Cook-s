{
 "cells": [
  {
   "cell_type": "code",
   "execution_count": 38,
   "id": "c1832305",
   "metadata": {},
   "outputs": [],
   "source": [
    "#Importing required libraries\n",
    "import numpy as np\n",
    "import pandas as pd\n",
    "import warnings\n",
    "warnings.filterwarnings(\"ignore\")\n"
   ]
  },
  {
   "cell_type": "code",
   "execution_count": 3,
   "id": "6e6f888e",
   "metadata": {},
   "outputs": [],
   "source": [
    "df_train = pd.read_excel(\"nanoindent.ods\", engine = \"odf\")"
   ]
  },
  {
   "cell_type": "code",
   "execution_count": 4,
   "id": "60b0272f",
   "metadata": {},
   "outputs": [
    {
     "data": {
      "text/html": [
       "<div>\n",
       "<style scoped>\n",
       "    .dataframe tbody tr th:only-of-type {\n",
       "        vertical-align: middle;\n",
       "    }\n",
       "\n",
       "    .dataframe tbody tr th {\n",
       "        vertical-align: top;\n",
       "    }\n",
       "\n",
       "    .dataframe thead th {\n",
       "        text-align: right;\n",
       "    }\n",
       "</style>\n",
       "<table border=\"1\" class=\"dataframe\">\n",
       "  <thead>\n",
       "    <tr style=\"text-align: right;\">\n",
       "      <th></th>\n",
       "      <th>A</th>\n",
       "      <th>B</th>\n",
       "      <th>n</th>\n",
       "      <th>MLE</th>\n",
       "    </tr>\n",
       "  </thead>\n",
       "  <tbody>\n",
       "    <tr>\n",
       "      <th>0</th>\n",
       "      <td>100</td>\n",
       "      <td>100</td>\n",
       "      <td>0.10</td>\n",
       "      <td>0.7898</td>\n",
       "    </tr>\n",
       "    <tr>\n",
       "      <th>1</th>\n",
       "      <td>100</td>\n",
       "      <td>100</td>\n",
       "      <td>0.50</td>\n",
       "      <td>-0.4796</td>\n",
       "    </tr>\n",
       "    <tr>\n",
       "      <th>2</th>\n",
       "      <td>100</td>\n",
       "      <td>100</td>\n",
       "      <td>0.99</td>\n",
       "      <td>0.3492</td>\n",
       "    </tr>\n",
       "    <tr>\n",
       "      <th>3</th>\n",
       "      <td>100</td>\n",
       "      <td>550</td>\n",
       "      <td>0.10</td>\n",
       "      <td>0.5564</td>\n",
       "    </tr>\n",
       "    <tr>\n",
       "      <th>4</th>\n",
       "      <td>100</td>\n",
       "      <td>550</td>\n",
       "      <td>0.50</td>\n",
       "      <td>-0.7520</td>\n",
       "    </tr>\n",
       "  </tbody>\n",
       "</table>\n",
       "</div>"
      ],
      "text/plain": [
       "     A    B     n     MLE\n",
       "0  100  100  0.10  0.7898\n",
       "1  100  100  0.50 -0.4796\n",
       "2  100  100  0.99  0.3492\n",
       "3  100  550  0.10  0.5564\n",
       "4  100  550  0.50 -0.7520"
      ]
     },
     "execution_count": 4,
     "metadata": {},
     "output_type": "execute_result"
    }
   ],
   "source": [
    "df_train.head()"
   ]
  },
  {
   "cell_type": "code",
   "execution_count": 5,
   "id": "aa806cef",
   "metadata": {},
   "outputs": [
    {
     "data": {
      "text/plain": [
       "Index(['A', 'B', 'n', 'MLE'], dtype='object')"
      ]
     },
     "execution_count": 5,
     "metadata": {},
     "output_type": "execute_result"
    }
   ],
   "source": [
    "df_train.columns"
   ]
  },
  {
   "cell_type": "code",
   "execution_count": 6,
   "id": "6f0cecf6",
   "metadata": {},
   "outputs": [],
   "source": [
    "y = df_train.pop(\"MLE\")\n",
    "X = df_train\n"
   ]
  },
  {
   "cell_type": "code",
   "execution_count": 7,
   "id": "0698900d",
   "metadata": {},
   "outputs": [
    {
     "name": "stdout",
     "output_type": "stream",
     "text": [
      "A -0.02755004686697247\n",
      "B 0.05565161993433248\n",
      "n -0.26326423539256993\n"
     ]
    }
   ],
   "source": [
    "for col in X.columns:\n",
    "    print(f\"{col}\", X[col].corr(y))"
   ]
  },
  {
   "cell_type": "code",
   "execution_count": 8,
   "id": "e9362a23",
   "metadata": {},
   "outputs": [],
   "source": [
    "from sklearn.model_selection import train_test_split\n",
    "\n",
    "\n",
    "X_train, X_valid, y_train, y_valid = train_test_split(X, \n",
    "                                                      y, \n",
    "                                                      test_size= 0.2,\n",
    "                                                     random_state= 7)"
   ]
  },
  {
   "cell_type": "code",
   "execution_count": 9,
   "id": "e5dc4cf8",
   "metadata": {},
   "outputs": [
    {
     "data": {
      "text/plain": [
       "Pipeline(steps=[('standardscaler', StandardScaler()),\n",
       "                ('linearregression', LinearRegression())])"
      ]
     },
     "execution_count": 9,
     "metadata": {},
     "output_type": "execute_result"
    }
   ],
   "source": [
    "from sklearn.linear_model import LinearRegression\n",
    "from sklearn.pipeline import make_pipeline\n",
    "from sklearn.preprocessing import StandardScaler\n",
    "\n",
    "model = make_pipeline(\n",
    "    \n",
    "    StandardScaler(),\n",
    "    LinearRegression()\n",
    ")\n",
    "model.fit(X_train,y_train)"
   ]
  },
  {
   "cell_type": "code",
   "execution_count": 10,
   "id": "1a1ed3ac",
   "metadata": {},
   "outputs": [
    {
     "name": "stdout",
     "output_type": "stream",
     "text": [
      "The training mean squared error for the linear regression model is : 0.2354\n",
      "The validation mean squared error for the linear regression model is : 0.401\n"
     ]
    }
   ],
   "source": [
    "from sklearn.metrics import mean_squared_error\n",
    "y_pred = model.predict(X_train)\n",
    "MSE_linear = mean_squared_error(y_train, y_pred)\n",
    "print(\"The training mean squared error for the linear regression model is :\", round(MSE_linear, 4))\n",
    "print(\"The validation mean squared error for the linear regression model is :\", \n",
    "      round(mean_squared_error(y_valid, model.predict(X_valid)), 4))"
   ]
  },
  {
   "cell_type": "code",
   "execution_count": 11,
   "id": "0286ab82",
   "metadata": {},
   "outputs": [
    {
     "name": "stdout",
     "output_type": "stream",
     "text": [
      "The training mean squared error for the decision tree model is : 0.2354\n",
      "The validation mean squared error for the decision tree model is : 0.3714\n"
     ]
    }
   ],
   "source": [
    "from sklearn.tree import DecisionTreeRegressor\n",
    "from sklearn.model_selection import GridSearchCV\n",
    "\n",
    "dtree = DecisionTreeRegressor(random_state = 42)\n",
    "\n",
    "tree_params = {\"max_depth\": [5]}\n",
    "\n",
    "tree_grid = GridSearchCV(estimator= dtree, param_grid= tree_params, cv = 5)\n",
    "\n",
    "tree_grid.fit(X_train, y_train)\n",
    "y_pred = tree_grid.predict(X_train)\n",
    "MSE_tree = mean_squared_error(y_train, y_pred)\n",
    "print(\"The training mean squared error for the decision tree model is :\", round(MSE_linear, 4))\n",
    "print(\"The validation mean squared error for the decision tree model is :\", \n",
    "      round(mean_squared_error(y_valid, tree_grid.predict(X_valid)), 4))"
   ]
  },
  {
   "cell_type": "code",
   "execution_count": 12,
   "id": "06a09091",
   "metadata": {},
   "outputs": [
    {
     "data": {
      "text/plain": [
       "{'max_depth': 5}"
      ]
     },
     "execution_count": 12,
     "metadata": {},
     "output_type": "execute_result"
    }
   ],
   "source": [
    "tree_grid.best_params_"
   ]
  },
  {
   "cell_type": "code",
   "execution_count": 17,
   "id": "ccbb7208",
   "metadata": {},
   "outputs": [
    {
     "name": "stdout",
     "output_type": "stream",
     "text": [
      "The training mean squared error for the SVR model is : 0.3235\n",
      "The validation mean squared error for the SVR model is : 0.1679\n"
     ]
    }
   ],
   "source": [
    "from sklearn.svm import SVR\n",
    "\n",
    "svr = SVR()\n",
    "X_scaled = StandardScaler().fit_transform(X)\n",
    "\n",
    "svr_params = {\"kernel\": [\"sigmoid\"],\n",
    "             \"gamma\": [0.1],\n",
    "             \"C\": [0.2, 0.3]}\n",
    "\n",
    "svr_grid = GridSearchCV(estimator= svr, param_grid= svr_params, cv = 5)\n",
    "svr_grid.fit(X_train, y_train)\n",
    "y_pred = svr_grid.predict(X_train)\n",
    "MSE_svr = mean_squared_error(y_train, y_pred)\n",
    "print(\"The training mean squared error for the SVR model is :\", round(MSE_svr, 4))\n",
    "print(\"The validation mean squared error for the SVR model is :\", \n",
    "      round(mean_squared_error(y_valid, svr_grid.predict(X_valid)), 4))"
   ]
  },
  {
   "cell_type": "code",
   "execution_count": 18,
   "id": "628fab78",
   "metadata": {},
   "outputs": [
    {
     "data": {
      "text/plain": [
       "{'C': 0.2, 'gamma': 0.1, 'kernel': 'sigmoid'}"
      ]
     },
     "execution_count": 18,
     "metadata": {},
     "output_type": "execute_result"
    }
   ],
   "source": [
    "svr_grid.best_params_"
   ]
  },
  {
   "cell_type": "code",
   "execution_count": 23,
   "id": "ef564ee2",
   "metadata": {},
   "outputs": [
    {
     "name": "stdout",
     "output_type": "stream",
     "text": [
      "The training mean squared error for the rf model is : 0.1075\n",
      "The validation mean squared error for the rf model is : 0.362\n"
     ]
    }
   ],
   "source": [
    "from sklearn.ensemble import RandomForestRegressor\n",
    "\n",
    "rf = RandomForestRegressor(random_state= 42)\n",
    "\n",
    "rf_params = {\"n_estimators\": [5],\n",
    "            \"max_depth\": [3]}\n",
    "\n",
    "rf_grid = GridSearchCV(estimator= rf, param_grid= rf_params, cv = 5)\n",
    "\n",
    "rf_grid.fit(X_train, y_train)\n",
    "y_pred = rf_grid.predict(X_train)\n",
    "MSE_rf = mean_squared_error(y_train, y_pred)\n",
    "print(\"The training mean squared error for the rf model is :\", round(MSE_rf, 4))\n",
    "print(\"The validation mean squared error for the rf model is :\", \n",
    "      round(mean_squared_error(y_valid, rf_grid.predict(X_valid)), 4))"
   ]
  },
  {
   "cell_type": "code",
   "execution_count": 24,
   "id": "56eef6f7",
   "metadata": {},
   "outputs": [
    {
     "data": {
      "text/plain": [
       "{'max_depth': 3, 'n_estimators': 5}"
      ]
     },
     "execution_count": 24,
     "metadata": {},
     "output_type": "execute_result"
    }
   ],
   "source": [
    "rf_grid.best_params_"
   ]
  },
  {
   "cell_type": "code",
   "execution_count": 45,
   "id": "1f661f68",
   "metadata": {},
   "outputs": [
    {
     "name": "stdout",
     "output_type": "stream",
     "text": [
      "The training mean squared error for the gb model is : 0.11\n",
      "The validation mean squared error for the gb model is : 0.1897\n"
     ]
    }
   ],
   "source": [
    "from sklearn.ensemble import GradientBoostingRegressor\n",
    "\n",
    "gb = GradientBoostingRegressor(random_state= 42)\n",
    "gb_params = {\n",
    "    \"n_estimators\": [50],\n",
    "    \"max_depth\": [5],\n",
    "    \"learning_rate\": [0.01],\n",
    "    \"loss\": [\"squared_error\"]\n",
    "}\n",
    "\n",
    "gb_grid = GridSearchCV(estimator= gb, param_grid= gb_params, cv = 5)\n",
    "\n",
    "gb_grid.fit(X_train, y_train)\n",
    "\n",
    "y_pred = gb_grid.predict(X_train)\n",
    "MSE_gb = mean_squared_error(y_train, y_pred)\n",
    "print(\"The training mean squared error for the gb model is :\", round(MSE_gb, 4))\n",
    "print(\"The validation mean squared error for the gb model is :\", \n",
    "      round(mean_squared_error(y_valid, gb_grid.predict(X_valid)), 4))"
   ]
  },
  {
   "cell_type": "code",
   "execution_count": 32,
   "id": "bb059be1",
   "metadata": {},
   "outputs": [
    {
     "data": {
      "text/plain": [
       "{'learning_rate': 0.01,\n",
       " 'loss': 'squared_error',\n",
       " 'max_depth': 5,\n",
       " 'n_estimators': 50}"
      ]
     },
     "execution_count": 32,
     "metadata": {},
     "output_type": "execute_result"
    }
   ],
   "source": [
    "gb_grid.best_params_"
   ]
  },
  {
   "cell_type": "code",
   "execution_count": 46,
   "id": "e128a773",
   "metadata": {},
   "outputs": [
    {
     "name": "stdout",
     "output_type": "stream",
     "text": [
      "[23:37:57] WARNING: ../src/learner.cc:627: \n",
      "Parameters: { \"num_boost_round\" } might not be used.\n",
      "\n",
      "  This could be a false alarm, with some parameters getting used by language bindings but\n",
      "  then being mistakenly passed down to XGBoost core, or some parameter actually being used\n",
      "  but getting flagged wrongly here. Please open an issue if you find any such cases.\n",
      "\n",
      "\n",
      "[23:37:57] WARNING: ../src/learner.cc:627: \n",
      "Parameters: { \"num_boost_round\" } might not be used.\n",
      "\n",
      "  This could be a false alarm, with some parameters getting used by language bindings but\n",
      "  then being mistakenly passed down to XGBoost core, or some parameter actually being used\n",
      "  but getting flagged wrongly here. Please open an issue if you find any such cases.\n",
      "\n",
      "\n",
      "[23:37:57] WARNING: ../src/learner.cc:627: \n",
      "Parameters: { \"num_boost_round\" } might not be used.\n",
      "\n",
      "  This could be a false alarm, with some parameters getting used by language bindings but\n",
      "  then being mistakenly passed down to XGBoost core, or some parameter actually being used\n",
      "  but getting flagged wrongly here. Please open an issue if you find any such cases.\n",
      "\n",
      "\n",
      "[23:37:58] WARNING: ../src/learner.cc:627: \n",
      "Parameters: { \"num_boost_round\" } might not be used.\n",
      "\n",
      "  This could be a false alarm, with some parameters getting used by language bindings but\n",
      "  then being mistakenly passed down to XGBoost core, or some parameter actually being used\n",
      "  but getting flagged wrongly here. Please open an issue if you find any such cases.\n",
      "\n",
      "\n",
      "[23:37:58] WARNING: ../src/learner.cc:627: \n",
      "Parameters: { \"num_boost_round\" } might not be used.\n",
      "\n",
      "  This could be a false alarm, with some parameters getting used by language bindings but\n",
      "  then being mistakenly passed down to XGBoost core, or some parameter actually being used\n",
      "  but getting flagged wrongly here. Please open an issue if you find any such cases.\n",
      "\n",
      "\n",
      "[23:37:58] WARNING: ../src/learner.cc:627: \n",
      "Parameters: { \"num_boost_round\" } might not be used.\n",
      "\n",
      "  This could be a false alarm, with some parameters getting used by language bindings but\n",
      "  then being mistakenly passed down to XGBoost core, or some parameter actually being used\n",
      "  but getting flagged wrongly here. Please open an issue if you find any such cases.\n",
      "\n",
      "\n",
      "The training mean squared error for the xgbr model is : 0.2178\n",
      "The validation mean squared error for the xgbr model is : 0.1697\n"
     ]
    }
   ],
   "source": [
    "from xgboost import XGBRegressor\n",
    "\n",
    "xgbr = XGBRegressor(random_state = 42)\n",
    "\n",
    "xgbr_params = {\"eta\": [0.2],\n",
    "              \"gamma\": [0.5],\n",
    "              \"max_depth\": [5],\n",
    "              \"num_boost_round\": [25]}\n",
    "\n",
    "xgbr_grid = GridSearchCV(estimator= xgbr,\n",
    "                        param_grid= xgbr_params, \n",
    "                        cv = 5)\n",
    "xgbr_grid.fit(X_train, y_train)\n",
    "\n",
    "y_pred = xgbr_grid.predict(X_train)\n",
    "MSE_xgbr = mean_squared_error(y_train, y_pred)\n",
    "print(\"The training mean squared error for the xgbr model is :\", round(MSE_xgbr, 4))\n",
    "print(\"The validation mean squared error for the xgbr model is :\", \n",
    "      round(mean_squared_error(y_valid, xgbr_grid.predict(X_valid)), 4))\n"
   ]
  },
  {
   "cell_type": "code",
   "execution_count": 44,
   "id": "8daa40cc",
   "metadata": {},
   "outputs": [
    {
     "data": {
      "text/plain": [
       "{'eta': 0.2, 'gamma': 0.5, 'max_depth': 5, 'num_boost_round': 25}"
      ]
     },
     "execution_count": 44,
     "metadata": {},
     "output_type": "execute_result"
    }
   ],
   "source": [
    "xgbr_grid.best_params_"
   ]
  },
  {
   "cell_type": "markdown",
   "id": "f8d1f0de",
   "metadata": {},
   "source": [
    "### Selection\n",
    "\n",
    "Best on the results above, it is established that though SVR performs best on the validation data, it's training error is quite different from the validation error. So, there is a big chance that the model will not genaralize well.\n",
    "\n",
    "The XGBoost model gives a slightly larger validation error but it's training error is not too far away. So, we shall use XGBoost for the test data.\n"
   ]
  },
  {
   "cell_type": "code",
   "execution_count": 47,
   "id": "c31aa0c4",
   "metadata": {},
   "outputs": [
    {
     "name": "stdout",
     "output_type": "stream",
     "text": [
      "The test mean squared error for the xgbr model is : 0.2463\n"
     ]
    }
   ],
   "source": [
    "df_test = pd.read_excel(\"nanoindent_test.ods\", engine = \"odf\")\n",
    "\n",
    "y_test = df_test.pop(\"MLE\")\n",
    "X_test = df_test\n",
    "\n",
    "\n",
    "y_pred_test = xgbr_grid.predict(X_test)\n",
    "\n",
    "print(\"The test mean squared error for the xgbr model is :\", \n",
    "      round(mean_squared_error(y_test, y_pred_test), 4))\n"
   ]
  },
  {
   "cell_type": "code",
   "execution_count": 49,
   "id": "44f44260",
   "metadata": {},
   "outputs": [
    {
     "name": "stdout",
     "output_type": "stream",
     "text": [
      "The test mean squared error for the svr model is : 0.1671\n"
     ]
    }
   ],
   "source": [
    "y_pred_test = svr_grid.predict(X_test)\n",
    "\n",
    "print(\"The test mean squared error for the svr model is :\", \n",
    "      round(mean_squared_error(y_test, y_pred_test), 4))\n"
   ]
  },
  {
   "cell_type": "code",
   "execution_count": 50,
   "id": "42587841",
   "metadata": {},
   "outputs": [
    {
     "name": "stdout",
     "output_type": "stream",
     "text": [
      "The test mean squared error for the svr model is : 0.2698\n"
     ]
    }
   ],
   "source": [
    "y_pred_test = gb_grid.predict(X_test)\n",
    "\n",
    "print(\"The test mean squared error for the svr model is :\", \n",
    "      round(mean_squared_error(y_test, y_pred_test), 4))\n"
   ]
  },
  {
   "cell_type": "code",
   "execution_count": null,
   "id": "a97a8b0e",
   "metadata": {},
   "outputs": [],
   "source": []
  }
 ],
 "metadata": {
  "kernelspec": {
   "display_name": "Python 3 (ipykernel)",
   "language": "python",
   "name": "python3"
  },
  "language_info": {
   "codemirror_mode": {
    "name": "ipython",
    "version": 3
   },
   "file_extension": ".py",
   "mimetype": "text/x-python",
   "name": "python",
   "nbconvert_exporter": "python",
   "pygments_lexer": "ipython3",
   "version": "3.8.10"
  }
 },
 "nbformat": 4,
 "nbformat_minor": 5
}
